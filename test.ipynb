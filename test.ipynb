{
 "metadata": {
  "name": "",
  "signature": "sha256:5a6b32b77ba4a38ed67e6709cea1500a8f519ed1566adf8611f6da8c1b048634"
 },
 "nbformat": 3,
 "nbformat_minor": 0,
 "worksheets": [
  {
   "cells": [
    {
     "cell_type": "code",
     "collapsed": false,
     "input": [
      "import BIDMat.{CMat,CSMat,DMat,Dict,IDict,FMat,GMat,GIMat,GSMat,HMat,IMat,Mat,SMat,SBMat,SDMat}\n",
      "import BIDMat.MatFunctions._\n",
      "import BIDMat.SciFunctions._\n",
      "import BIDMat.Solvers._\n",
      "Mat.checkMKL\n",
      "Mat.checkCUDA\n",
      "if (Mat.hasCUDA > 0) GPUmem"
     ],
     "language": "python",
     "metadata": {},
     "outputs": [
      {
       "output_type": "stream",
       "stream": "stdout",
       "text": [
        "1 CUDA device found, CUDA version 7.0\n"
       ]
      },
      {
       "output_type": "stream",
       "stream": "stdout",
       "text": []
      },
      {
       "output_type": "stream",
       "stream": "stdout",
       "text": []
      },
      {
       "metadata": {},
       "output_type": "pyout",
       "prompt_number": 1,
       "text": [
        "(0.98721826,4239876096,4294770688)"
       ]
      }
     ],
     "prompt_number": 1
    },
    {
     "cell_type": "code",
     "collapsed": false,
     "input": [
      "val ad_id = loadSBMat(\"fake_CTR/ad_id.sbmat\")\n",
      "val ad_kw_comp = loadSMat(\"fake_CTR/ad_kw_comp.smat\").t\n",
      "val ad_kw_map = loadIMat(\"fake_CTR/ad_kw_map.imat\")\n",
      "val kws = loadSBMat(\"fake_CTR/keyphrase.sbmat\")\n",
      "val pos_comp = loadSMat(\"fake_CTR/pos_comp.smat\").t"
     ],
     "language": "python",
     "metadata": {},
     "outputs": [
      {
       "output_type": "stream",
       "stream": "stdout",
       "text": []
      },
      {
       "output_type": "stream",
       "stream": "stdout",
       "text": []
      },
      {
       "metadata": {},
       "output_type": "pyout",
       "prompt_number": 35,
       "text": [
        "(         0,         0)   0.19109\n",
        "(         1,         0)   0.93623\n",
        "(         2,         0)  0.066242\n",
        "(         3,         0)   0.33410\n",
        "(         4,         0)   0.64584\n",
        "(         5,         0)   0.25824\n",
        "(         6,         0)   0.58547\n",
        "(         7,         0)   0.25645\n",
        "        ...        ...        ...\n"
       ]
      }
     ],
     "prompt_number": 35
    },
    {
     "cell_type": "code",
     "collapsed": false,
     "input": [
      "/**\n",
      "  * A class containing the CTR model computed offline. By matrix factorization,\n",
      "  * CTR_matrix = posComponent * adKwComponent.\n",
      "  *\n",
      "  * @param adMap a BIDMat SBMat, each column is an ad ID.\n",
      "  * @param kwMap a BIDMat SBMat, each column is a keyphrase.\n",
      "  * @param posComponent a len(rank) * 1 matrix.\n",
      "  * @param adKwComponent a 1 * (number of ad-keyphrase pair) matrix.\n",
      "  */\n",
      "\n",
      "class CTRModel(adMap: SBMat, kwMap: SBMat, adKwMap: IMat, posComponent: SMat, adKwComponent: SMat) {\n",
      "\n",
      "  /** Convert the mapping matrix into BIDMat Dict so that we can use ad/keyphrase to get their index.*/\n",
      "  val adDict = new Dict(adMap.toCSMat)\n",
      "  val kwDict = new Dict(kwMap.toCSMat)\n",
      "  var adKwCSMat = csrow(adKwMap(0, ?).toString)\n",
      "  var i = 1\n",
      "  while (i < adKwMap.nrows) {\n",
      "      adKwCSMat = adKwCSMat on csrow(adKwMap(i, ?).toString)\n",
      "      i += 1\n",
      "  }\n",
      "  val adKwDict = new Dict(adKwCSMat)\n",
      "  println(adKwDict(row(2, 1).toString))\n",
      "  \n",
      "\n",
      "  def getCTR(rank: Int, ad: String, kw: String): Float = {\n",
      "    val ad_kw = row(adDict(ad), kwDict(kw))\n",
      "    \n",
      "    posComponent(rank, 0) * adKwComponent(0, adKwDict(ad_kw.toString))\n",
      "  }\n",
      "}"
     ],
     "language": "python",
     "metadata": {},
     "outputs": [
      {
       "output_type": "stream",
       "stream": "stdout",
       "text": []
      },
      {
       "output_type": "stream",
       "stream": "stdout",
       "text": []
      }
     ],
     "prompt_number": 67
    },
    {
     "cell_type": "code",
     "collapsed": false,
     "input": [
      "ad_kw_map"
     ],
     "language": "python",
     "metadata": {},
     "outputs": [
      {
       "output_type": "stream",
       "stream": "stdout",
       "text": []
      },
      {
       "output_type": "stream",
       "stream": "stdout",
       "text": []
      },
      {
       "metadata": {},
       "output_type": "pyout",
       "prompt_number": 94,
       "text": [
        "   1   1\n",
        "   1   2\n",
        "   2   3\n",
        "   2   4\n",
        "   2   5\n",
        "  ..  ..\n"
       ]
      }
     ],
     "prompt_number": 94
    },
    {
     "cell_type": "code",
     "collapsed": false,
     "input": [
      "val model = new CTRModel(ad_id, kws, ad_kw_map, pos_comp, ad_kw_comp)"
     ],
     "language": "python",
     "metadata": {},
     "outputs": [
      {
       "output_type": "stream",
       "stream": "stdout",
       "text": [
        "  1,1\n",
        "  1,2\n",
        "  2,3\n",
        "  2,4\n",
        "  2,5\n",
        "   ..\n",
        "\n",
        "-1\n"
       ]
      },
      {
       "output_type": "stream",
       "stream": "stdout",
       "text": []
      },
      {
       "metadata": {},
       "output_type": "pyout",
       "prompt_number": 68,
       "text": [
        "CTRModel@48fe546b"
       ]
      }
     ],
     "prompt_number": 68
    },
    {
     "cell_type": "code",
     "collapsed": false,
     "input": [
      "val test_ad = CSMat(ad_id(?, 2))(0, ?)\n",
      "val test_kw = CSMat(kws(?, 3))(0, ?)\n",
      "size(pos_comp)\n",
      "pos_comp(3, 0)\n",
      "test_ad\n",
      "test_kw"
     ],
     "language": "python",
     "metadata": {},
     "outputs": [
      {
       "output_type": "stream",
       "stream": "stdout",
       "text": []
      },
      {
       "output_type": "stream",
       "stream": "stdout",
       "text": []
      },
      {
       "metadata": {},
       "output_type": "pyout",
       "prompt_number": 69,
       "text": [
        "cd74a8342d25d090 1b96f206580d3c18 f5f3353a3902c4d7 316bc914dd301f7f"
       ]
      }
     ],
     "prompt_number": 69
    },
    {
     "cell_type": "code",
     "collapsed": false,
     "input": [
      "model.getCTR(4, test_ad.toString, test_kw.toString)"
     ],
     "language": "python",
     "metadata": {},
     "outputs": [
      {
       "output_type": "stream",
       "stream": "stdout",
       "text": [
        "2,3\n"
       ]
      },
      {
       "output_type": "stream",
       "stream": "stdout",
       "text": []
      },
      {
       "metadata": {},
       "output_type": "pyout",
       "prompt_number": 70,
       "text": [
        "0.55902094"
       ]
      }
     ],
     "prompt_number": 70
    },
    {
     "cell_type": "code",
     "collapsed": false,
     "input": [
      "import scala.collection.Map\n",
      "import scala.collection.immutable.ListMap\n",
      "\n",
      "\n",
      "class AdBiddingSimulation(adModel: CTRModel, userModel: CTRModel, alpha: Float, beta: Float) {\n",
      "\n",
      "  def qualityFunc(CTR: Float, bid: Float) = {(math.pow(CTR, alpha) * math.pow(bid, beta)).toFloat}\n",
      "\n",
      "  def invQualityFunc(quality: Float, CTR: Float) = {math.pow(quality / math.pow(CTR, alpha), 1 / beta).toFloat}\n",
      "\n",
      "  //TODO: since not all advertiser bid for all key phrases, bids should be keyPhrases specific\n",
      "  def simulate(keyPhrases: Array[String], bids: Map[String, Float]) : Map[String, Float] = {\n",
      "    val totalProfits = keyPhrases map {\n",
      "      case (keyPhrase: String) => {\n",
      "        val qualityScores = bids map {\n",
      "          case (advertiser: String, bid: Float) => {\n",
      "            (advertiser, getQualityScore(advertiser, keyPhrase, bid))\n",
      "          }\n",
      "        }\n",
      "        val ranks = getRanking(qualityScores)\n",
      "        val finalQuality = getFinalQualityScores(keyPhrase, ranks, bids)\n",
      "        val profits = ranks map {\n",
      "          case (advertiser: String, rank: Int) => {\n",
      "            (advertiser, calculateProfit(finalQuality, keyPhrase, advertiser, rank))\n",
      "          }\n",
      "        }\n",
      "        //TODO: what to do after getting profits for each key phrase?\n",
      "        (keyPhrase, aggregateProfits(profits))\n",
      "      }\n",
      "    }\n",
      "    totalProfits.toMap\n",
      "  }\n",
      "\n",
      "  def getQualityScore(advertiser: String, keyPhrase: String, bid: Float): Float = {\n",
      "    val myCTR:Float = adModel.getCTR(1, advertiser, keyPhrase);\n",
      "    qualityFunc(myCTR, bid);\n",
      "\n",
      "  }\n",
      "\n",
      "  def getRanking(qualityScores: Map[String, Float]): Map[String, Int] = {\n",
      "    val sorted_scores = ListMap(qualityScores.toSeq.sortWith(_._2 > _._2):_*)\n",
      "    val sorted_map = collection.mutable.Map[String, Int]()\n",
      "    var i = 1\n",
      "    for ((advertiser, quality) <- sorted_scores) {\n",
      "      sorted_map += advertiser -> i\n",
      "      i = i + 1\n",
      "    }\n",
      "    sorted_map\n",
      "  }\n",
      "\n",
      "  def getFinalQualityScores(keyPhrase: String, ranks: Map[String, Int],\n",
      "                            bids: Map[String, Float]): Map[Int, Float] = {\n",
      "    ranks map {\n",
      "      case (advertiser: String, rank: Int) => {\n",
      "        val finalCTR = userModel.getCTR(rank, advertiser, keyPhrase)\n",
      "        (rank, qualityFunc(finalCTR, bids(advertiser)))\n",
      "      }\n",
      "    }\n",
      "  }\n",
      "\n",
      "  def calculateProfit(finalScores: Map[Int, Float], keyPhrase: String, advertiser: String, rank: Int) : Float = {\n",
      "    //TODO: adding reserve price\n",
      "    if (rank >= finalScores.keys.max - 1) {\n",
      "        return 0\n",
      "    }\n",
      "    // Grab the final score of the next ranking\n",
      "    val nextScore = finalScores(rank + 1)\n",
      "\n",
      "    // Now, calculate what we would have had to bid to maintain this position\n",
      "    val finalCTR = userModel.getCTR(rank, advertiser, keyPhrase)\n",
      "    invQualityFunc(nextScore, finalCTR)\n",
      "  }\n",
      "\n",
      "  def aggregateProfits(profits: Map[String, Float]): Float = {\n",
      "    profits.values.sum\n",
      "  }\n",
      "}\n"
     ],
     "language": "python",
     "metadata": {},
     "outputs": [
      {
       "output_type": "stream",
       "stream": "stdout",
       "text": []
      },
      {
       "output_type": "stream",
       "stream": "stdout",
       "text": []
      }
     ],
     "prompt_number": 77
    },
    {
     "cell_type": "code",
     "collapsed": false,
     "input": [
      "val sim = new AdBiddingSimulation(model, model, 0.5f, 0.5f)"
     ],
     "language": "python",
     "metadata": {},
     "outputs": [
      {
       "output_type": "stream",
       "stream": "stdout",
       "text": []
      },
      {
       "output_type": "stream",
       "stream": "stdout",
       "text": []
      },
      {
       "metadata": {},
       "output_type": "pyout",
       "prompt_number": 80,
       "text": [
        "AdBiddingSimulation@43cb0816"
       ]
      }
     ],
     "prompt_number": 80
    },
    {
     "cell_type": "code",
     "collapsed": false,
     "input": [
      "val keyphrases = (0 until kws.ncols).map((i: Int) => kws.toCSMat(i, ?).toString).toArray\n",
      "val bids_immutable = (0 until keyphrases.length).map((i: Int) => (keyphrases(i), i.toFloat)).toMap\n",
      "val bids = Map(bids_immutable.toSeq: _*)"
     ],
     "language": "python",
     "metadata": {},
     "outputs": [
      {
       "output_type": "stream",
       "stream": "stdout",
       "text": []
      },
      {
       "output_type": "stream",
       "stream": "stdout",
       "text": []
      },
      {
       "metadata": {},
       "output_type": "pyout",
       "prompt_number": 92,
       "text": [
        "Map(de84da9dfd5a336d e6248bd0dfd2d79b a440178f212cc531 1386df1cbff1f823 -> 309.0, b115423bd16949e0 e3418f0614e7dce1 de84da9dfd5a336d 3554bb31d2f1e395 -> 356.0, de84da9dfd5a336d f334f86957cbfb23 -> 268.0, aef4ee042bea9c6b fc4f04e287746c48 a61e620f45aa714e 30886045ac687868 -> 218.0, cd74a8342d25d090 1b96f206580d3c18 f5f3353a3902c4d7 9e0fb035c6b471be -> 4.0, de84da9dfd5a336d 87c4b2245008f58a -> 269.0, de84da9dfd5a336d 44bc75ff85e2627a 1c74b46de6941e5c -> 331.0, aef4ee042bea9c6b fc4f04e287746c48 2f89084003c0688d 2fb9ae05f5dbf8f4 -> 179.0, aef4ee042bea9c6b fc4f04e287746c48 2fb9ae05f5dbf8f4 46ff3f009d45d3ad -> 105.0, aef4ee042bea9c6b fc4f04e287746c48 53ab056bd632e680 2fb9ae05f5dbf8f4 -> 86.0, aef4ee042bea9c6b 1db015af6140e3f0 fc4f04e287746c48 2fb9ae05f5dbf8f4 -> 259.0, de84da9dfd5a336d e268127205defc34 de954c8b9ab50bc4 -> 330.0, aef4ee042bea9c6b 6575ba51fc2e92c3 fc4f04e287746c48 2fb9ae05f5dbf8f4 6f31d594b4e5b59d -> 160.0, aef4ee042bea9c6b fc4f04e287746c48 2fb9ae05f5dbf8f4 5a024744fb1284c1 -> 264.0, de2e2922c68a9974 cd74a8342d25d090 bc1c3be8d1476395 1b96f206580d3c18 316bc914dd301f7f -> 6.0, de84da9dfd5a336d ec7d97c5f425ebc1 c33f21111a568040 e6248bd0dfd2d79b -> 374.0, de84da9dfd5a336d 37d334fab2bcee5b 897fc1e033b4ff5b 9504aaca0469d8ac -> 353.0, aef4ee042bea9c6b fc4f04e287746c48 8019a480ab714710 2fb9ae05f5dbf8f4 -> 188.0, 8f48d0e85028e138 cd74a8342d25d090 1b96f206580d3c18 818c76aa1c8fcfcb -> 7.0, aef4ee042bea9c6b fc4f04e287746c48 7d77b1323bd79bf6 2fb9ae05f5dbf8f4 -> 77.0, aef4ee042bea9c6b fc4f04e287746c48 6f24222009d59644 6a82ef5b6ade294f 2fb9ae05f5dbf8f4 -> 125.0, aef4ee042bea9c6b fc4f04e287746c48 6f24222009d59644 6a82ef5b6ade294f 324ac734097de5e4 -> 177.0, aef4ee042bea9c6b fc4f04e287746c48 31149fcfb7043bcb 2fb9ae05f5dbf8f4 -> 103.0, aef4ee042bea9c6b fc4f04e287746c48 2fb9ae05f5dbf8f4 29cc7b8c30db5589 92628b55d746da91 -> 247.0, de84da9dfd5a336d e6248bd0dfd2d79b 5498bcee41283b96 -> 369.0, cd74a8342d25d090 b30bf98a576ec06d -> 25.0, de84da9dfd5a336d 891003cd3e37c210 -> 284.0, de84da9dfd5a336d cb068253adb98c34 6ad1f372b67d6658 -> 354.0, aef4ee042bea9c6b fc4f04e287746c48 c66403c4d48619a2 2fb9ae05f5dbf8f4 -> 163.0, de84da9dfd5a336d cb068253adb98c34 ea3aeaa6d20039bd -> 348.0, aef4ee042bea9c6b fc4f04e287746c48 61536baccef4497c 2fb9ae05f5dbf8f4 -> 151.0, de84da9dfd5a336d 3deb7b371357c233 145e978a3c671628 cb068253adb98c34 -> 324.0, aef4ee042bea9c6b fc4f04e287746c48 324ac734097de5e4 29cc7b8c30db5589 92628b55d746da91 -> 158.0, aef4ee042bea9c6b fc4f04e287746c48 cec995021b1738e4 324ac734097de5e4 -> 72.0, 1c184d98a13b27a1 aef4ee042bea9c6b fc4f04e287746c48 324ac734097de5e4 -> 61.0, aef4ee042bea9c6b c7798d1b9e37e0fc fc4f04e287746c48 6a82ef5b6ade294f 324ac734097de5e4 -> 172.0, aef4ee042bea9c6b fc4f04e287746c48 78d55437c6555d2a 2fb9ae05f5dbf8f4 -> 233.0, aef4ee042bea9c6b fc4f04e287746c48 30886045ac687868 b9c471bc53981cb9 -> 60.0, aef4ee042bea9c6b fc4f04e287746c48 8019a480ab714710 324ac734097de5e4 -> 228.0, 621d9c5f467f33b3 de84da9dfd5a336d 6f4a4738acf270b7 1c74b46de6941e5c -> 287.0, aef4ee042bea9c6b fc4f04e287746c48 30886045ac687868 40ea3bdcd1bcfc4d -> 203.0, aef4ee042bea9c6b fc4f04e287746c48 cec995021b1738e4 2fb9ae05f5dbf8f4 -> 90.0, aef4ee042bea9c6b fc4f04e287746c48 8019a480ab714710 30886045ac687868 -> 239.0, de84da9dfd5a336d 6d3d489663425c63 c4c93a6d50326a87 -> 361.0, aef4ee042bea9c6b 4d3e9a1981b7004f fc4f04e287746c48 2fb9ae05f5dbf8f4 -> 251.0, aef4ee042bea9c6b fc4f04e287746c48 fbf4fc40a933bc81 30886045ac687868 -> 189.0, aef4ee042bea9c6b 4d3e9a1981b7004f fc4f04e287746c48 30886045ac687868 -> 131.0, aef4ee042bea9c6b 7504ec8e8020038c fc4f04e287746c48 30886045ac687868 -> 175.0, aef4ee042bea9c6b fc4f04e287746c48 30886045ac687868 -> 39.0, 8ce7c93ed23ec191 de84da9dfd5a336d cb068253adb98c34 -> 364.0, aef4ee042bea9c6b 284ec0a9e71d0e70 fc4f04e287746c48 565ec9822ca30928 -> 170.0, de84da9dfd5a336d 145e978a3c671628 cc3d11e2c6906623 d0ad17393b968276 -> 298.0, aef4ee042bea9c6b fc4f04e287746c48 30886045ac687868 910cda72aa173c1a -> 71.0, 769ed4a87b5010f4 3d4b990abb0867c8 cd74a8342d25d090 ab9f74ae002e80ff af26d27737af376a -> 1.0, aef4ee042bea9c6b 88e0532a92155201 fc4f04e287746c48 30886045ac687868 -> 85.0, aef4ee042bea9c6b fc4f04e287746c48 2fb9ae05f5dbf8f4 9ccdfb5296a65167 -> 95.0, de84da9dfd5a336d ec7d97c5f425ebc1 33a61d5ca63b42f7 cbaa07976594da83 4bea4baa91123a12 -> 390.0, aef4ee042bea9c6b e3418f0614e7dce1 fc4f04e287746c48 30886045ac687868 -> 93.0, cd74a8342d25d090 2009474a0eb448ac 1b96f206580d3c18 6f31d594b4e5b59d 818c76aa1c8fcfcb -> 24.0, de84da9dfd5a336d 52ddb39e4ad76f63 3d85dd667306381f -> 318.0, aef4ee042bea9c6b fc4f04e287746c48 53ab056bd632e680 324ac734097de5e4 -> 117.0, de84da9dfd5a336d cb068253adb98c34 c91207e3f2759446 -> 383.0, 2359d753018e979b aef4ee042bea9c6b fc4f04e287746c48 324ac734097de5e4 d777cfa1462b7c50 -> 205.0, de84da9dfd5a336d d6bc5d4fad0d514a c3b1a0bcf0178bcb -> 380.0, 5874bb9bf30ee8f0 aef4ee042bea9c6b fc4f04e287746c48 324ac734097de5e4 -> 44.0, aef4ee042bea9c6b fc2a03f31456f059 fc4f04e287746c48 30886045ac687868 -> 194.0, aef4ee042bea9c6b fc4f04e287746c48 30886045ac687868 f988595788c8078b -> 58.0, cd74a8342d25d090 a2afca0a081e7392 1b96f206580d3c18 316bc914dd301f7f -> 11.0, 6abd57956e2e170e cd74a8342d25d090 87b2b4d801a113cb 58e0b25a859bfa21 -> 297.0, aef4ee042bea9c6b fc4f04e287746c48 ad0422c8d620caf8 324ac734097de5e4 -> 169.0, aef4ee042bea9c6b fc4f04e287746c48 bd54e970066bdeb2 324ac734097de5e4 -> 50.0, de84da9dfd5a336d 194c60b6be63558b a5c363ff4d5937c4 -> 363.0, de84da9dfd5a336d cb068253adb98c34 c5a09f31e2fc286a c7d4d8dbe543a241 -> 291.0, 6abd57956e2e170e de84da9dfd5a336d -> 360.0, aef4ee042bea9c6b fc4f04e287746c48 6a82ef5b6ade294f 30886045ac687868 8b9f17e47e6282fc -> 202.0, aef4ee042bea9c6b 26a683a75ad83866 fc4f04e287746c48 324ac734097de5e4 -> 198.0, aef4ee042bea9c6b 88e0532a92155201 fc4f04e287746c48 2fb9ae05f5dbf8f4 -> 157.0, aef4ee042bea9c6b fc4f04e287746c48 31149fcfb7043bcb 30886045ac687868 -> 73.0, de84da9dfd5a336d cb068253adb98c34 149848cb349ecb15 -> 335.0, aef4ee042bea9c6b fc4f04e287746c48 78d55437c6555d2a 324ac734097de5e4 -> 241.0, aef4ee042bea9c6b fc4f04e287746c48 6f24222009d59644 6a82ef5b6ade294f 30886045ac687868 -> 253.0, de84da9dfd5a336d 145e978a3c671628 cb068253adb98c34 6a82ef5b6ade294f e108570505d68090 -> 385.0, cbb1ad3db2966e29 cd74a8342d25d090 1b96f206580d3c18 9e0fb035c6b471be -> 18.0, aef4ee042bea9c6b 6575ba51fc2e92c3 fc4f04e287746c48 324ac734097de5e4 6f31d594b4e5b59d -> 109.0, 8e440375c676a98a de84da9dfd5a336d a8530ac47e72714c 5ed8971ccb949924 -> 278.0, aef4ee042bea9c6b fc4f04e287746c48 6a82ef5b6ade294f 2fb9ae05f5dbf8f4 8b9f17e47e6282fc -> 102.0, de84da9dfd5a336d cb068253adb98c34 236f5b0a3e213fd0 ebfae2d6c840c88b -> 300.0, aef4ee042bea9c6b fc4f04e287746c48 61926874f4d0d5ed 324ac734097de5e4 -> 106.0, aef4ee042bea9c6b 12f8ebbcede10fab fc4f04e287746c48 324ac734097de5e4 -> 230.0, de84da9dfd5a336d cb068253adb98c34 a41e246fa8f2aa4d -> 276.0, aef4ee042bea9c6b 6c6d07e5821cd3ea fc4f04e287746c48 2fb9ae05f5dbf8f4 -> 261.0, aef4ee042bea9c6b 5b9834ef1db9cdf7 fc4f04e287746c48 30886045ac687868 -> 78.0, aef4ee042bea9c6b 6575ba51fc2e92c3 fc4f04e287746c48 324ac734097de5e4 -> 67.0, de84da9dfd5a336d 145e978a3c671628 -> 281.0, 5874bb9bf30ee8f0 aef4ee042bea9c6b fc4f04e287746c48 2fb9ae05f5dbf8f4 -> 81.0, aef4ee042bea9c6b fc4f04e287746c48 592f3bbb9514936f 324ac734097de5e4 4b6926b0754cb602 -> 136.0, e3418f0614e7dce1 de84da9dfd5a336d 4a53ca86cc6a5084 cb068253adb98c34 24a940d57e7ed719 -> 285.0, f2cb829e8d637028 2e213df806b036a7 79021a2e2c836c1a -> 337.0, de84da9dfd5a336d dbeabaf7b12face3 a8530ac47e72714c e6248bd0dfd2d79b 27a2dc7722173835 27a2dc7722173835 cd3582752e908e82 -> 389.0, cd74a8342d25d090 1b96f206580d3c18 f5f3353a3902c4d7 818c76aa1c8fcfcb -> 16.0, aef4ee042bea9c6b 1accfd9fbff29c50 fc4f04e287746c48 2fb9ae05f5dbf8f4 -> 176.0, 34b4c739c5af655c aef4ee042bea9c6b fc4f04e287746c48 324ac734097de5e4 -> 47.0, aef4ee042bea9c6b fc4f04e287746c48 324ac734097de5e4 -> 30.0, de84da9dfd5a336d ff02b0d5e33d9109 cb068253adb98c34 -> 342.0, cd74a8342d25d090 e26345b773003589 1b96f206580d3c18 316bc914dd301f7f -> 2.0, 5f7981e9090392df aef4ee042bea9c6b fc4f04e287746c48 324ac734097de5e4 -> 69.0, aef4ee042bea9c6b b3aae108e805c841 fc4f04e287746c48 2fb9ae05f5dbf8f4 -> 143.0, aef4ee042bea9c6b 4322d62f1b750f2d fc4f04e287746c48 324ac734097de5e4 -> 265.0, aef4ee042bea9c6b ba41755d77115943 fc4f04e287746c48 324ac734097de5e4 e3e2fa4a1dce5dd4 -> 133.0, aef4ee042bea9c6b fc4f04e287746c48 30886045ac687868 5a024744fb1284c1 -> 255.0, de84da9dfd5a336d cb068253adb98c34 e8f60a731bddc344 ef8c02936aa620f8 -> 333.0, aef4ee042bea9c6b fc4f04e287746c48 d6a8c55e1715adf0 30886045ac687868 -> 237.0, aef4ee042bea9c6b fc4f04e287746c48 324ac734097de5e4 5a024744fb1284c1 -> 89.0, 5bf49dc4a4fd0ba5 cd74a8342d25d090 1b96f206580d3c18 9e0fb035c6b471be -> 12.0, aef4ee042bea9c6b ee2d093788e31d94 fc4f04e287746c48 30886045ac687868 -> 83.0, ec07e779cad191ec de84da9dfd5a336d cb068253adb98c34 -> 391.0, de84da9dfd5a336d 2e54cbec4f718362 1c74b46de6941e5c 4b8696a1c9abd7a3 -> 293.0, aef4ee042bea9c6b fc4f04e287746c48 8f0c09669dac7479 324ac734097de5e4 -> 149.0, 8e440375c676a98a aef4ee042bea9c6b fc4f04e287746c48 30886045ac687868 -> 134.0, aef4ee042bea9c6b fc4f04e287746c48 324ac734097de5e4 40ea3bdcd1bcfc4d -> 199.0, de84da9dfd5a336d 145e978a3c671628 a32c9baa0685bef3 -> 336.0, cd74a8342d25d090 1b96f206580d3c18 316bc914dd301f7f 7baee4acd894249f -> 15.0, 84a18191b0582f60 aef4ee042bea9c6b fc4f04e287746c48 324ac734097de5e4 -> 183.0, de84da9dfd5a336d d9ce2cf9edd194fe 64998c335180f1d8 -> 375.0, aef4ee042bea9c6b fc4f04e287746c48 ff60782591147945 30886045ac687868 -> 156.0, 3cd9cbabf3a8eed1 de84da9dfd5a336d -> 332.0, aef4ee042bea9c6b fc4f04e287746c48 cd5a81efac74a52c 30886045ac687868 -> 70.0, de84da9dfd5a336d 1c74b46de6941e5c 19e05fe64e7ab160 -> 362.0, aef4ee042bea9c6b fc4f04e287746c48 7e9c4eb8561d34b6 2fb9ae05f5dbf8f4 -> 66.0, aef4ee042bea9c6b fc4f04e287746c48 1b3660568d34cf1b 324ac734097de5e4 -> 126.0, aef4ee042bea9c6b b3aae108e805c841 fc4f04e287746c48 30886045ac687868 -> 232.0, aef4ee042bea9c6b fc4f04e287746c48 8125143ae85d120b 30886045ac687868 -> 162.0, 6fdd0e02ba65de9a de84da9dfd5a336d -> 392.0, de84da9dfd5a336d ec7d97c5f425ebc1 392413fb69fbe026 8cd8272fd4feced8 -> 286.0, aef4ee042bea9c6b ee2d093788e31d94 fc4f04e287746c48 2fb9ae05f5dbf8f4 -> 113.0, f4f055054d9845d8 de84da9dfd5a336d 299ca537eefdb1be cb068253adb98c34 5f0f2986fb7ef960 -> 365.0, aef4ee042bea9c6b 6c6d07e5821cd3ea fc4f04e287746c48 324ac734097de5e4 -> 43.0, aef4ee042bea9c6b fc4f04e287746c48 ff60782591147945 324ac734097de5e4 -> 130.0, cd74a8342d25d090 1b96f206580d3c18 f5f3353a3902c4d7 316bc914dd301f7f -> 3.0, cd74a8342d25d090 1b96f206580d3c18 316bc914dd301f7f 580e0667660ea9a6 -> 23.0, efb01217408a8bde de84da9dfd5a336d dbeabaf7b12face3 145e978a3c671628 ef8c02936aa620f8 d0dc907c0a07f48f -> 384.0, aef4ee042bea9c6b e287d2e8b9a000d4 fc4f04e287746c48 2fb9ae05f5dbf8f4 -> 148.0, 58351f60b4c16b9f 3db691494440189b f26216b592e40747 -> 37.0, 2359d753018e979b aef4ee042bea9c6b fc4f04e287746c48 30886045ac687868 d777cfa1462b7c50 -> 110.0, aef4ee042bea9c6b fc4f04e287746c48 30886045ac687868 97e116ccfc504875 -> 243.0, aef4ee042bea9c6b fc4f04e287746c48 30886045ac687868 9ccdfb5296a65167 -> 40.0, cd74a8342d25d090 -> 266.0, aef4ee042bea9c6b fc4f04e287746c48 2d0977c7ffe06dd5 2fb9ae05f5dbf8f4 -> 147.0, aef4ee042bea9c6b c7798d1b9e37e0fc fc4f04e287746c48 6a82ef5b6ade294f 2fb9ae05f5dbf8f4 -> 263.0, aef4ee042bea9c6b fc4f04e287746c48 4e2ee827d0451372 324ac734097de5e4 -> 242.0, 8e440375c676a98a aef4ee042bea9c6b fc4f04e287746c48 324ac734097de5e4 -> 76.0, 8662a29ce6c02661 4389c8989b238f8e de84da9dfd5a336d b51e871285d410ca 502f1e89a9552c6f dd50a4a35e9e47bc -> 299.0, de84da9dfd5a336d cb068253adb98c34 e6225096068c9cda -> 393.0, de84da9dfd5a336d 4ac25691fd477230 b37978c3ebac74c3 -> 305.0, aef4ee042bea9c6b fc4f04e287746c48 2f89084003c0688d 324ac734097de5e4 -> 41.0, de84da9dfd5a336d 6f4a4738acf270b7 f43586ba2ab373d3 206d765ef5f7e24d 369cac78ca3f6414 -> 290.0, fbaa5f7158177130 cd74a8342d25d090 a440178f212cc531 1b96f206580d3c18 818c76aa1c8fcfcb -> 22.0, aef4ee042bea9c6b fc4f04e287746c48 2fb9ae05f5dbf8f4 d6fe1528dbb6ba78 759c2c3c56dd474f -> 192.0, cd74a8342d25d090 1b96f206580d3c18 818c76aa1c8fcfcb 65ab36aa7324d348 -> 21.0, aef4ee042bea9c6b fc4f04e287746c48 324ac734097de5e4 e588b802b73e06bb -> 178.0, aef4ee042bea9c6b 6575ba51fc2e92c3 fc4f04e287746c48 30886045ac687868 6f31d594b4e5b59d -> 150.0, aef4ee042bea9c6b 4fa18b7dabaa3cd0 fc4f04e287746c48 324ac734097de5e4 d777cfa1462b7c50 -> 193.0, aef4ee042bea9c6b 17164e2464a150eb fc4f04e287746c48 c5a09f31e2fc286a 2fb9ae05f5dbf8f4 -> 53.0, de84da9dfd5a336d cb068253adb98c34 b8821d2ba94fc623 -> 338.0, de84da9dfd5a336d 42e2ce3fd3ccd8b1 ee43cf751cf2df56 -> 373.0, 22c154eec28333fb aef4ee042bea9c6b fc4f04e287746c48 30886045ac687868 -> 245.0, de84da9dfd5a336d b37978c3ebac74c3 2274f7ac4dd256ad -> 371.0, eb80694cbde38ae5 de84da9dfd5a336d 11d5c0cb2d4e65ed 299ca537eefdb1be cb068253adb98c34 -> 349.0, aef4ee042bea9c6b fc4f04e287746c48 6a82ef5b6ade294f 324ac734097de5e4 8b9f17e47e6282fc -> 118.0, aef4ee042bea9c6b fc4f04e287746c48 592f3bbb9514936f 30886045ac687868 4b6926b0754cb602 -> 111.0, de84da9dfd5a336d 48bd18da96d0aa5e cb068253adb98c34 1c74b46de6941e5c 313b729eb838d81a -> 303.0, aef4ee042bea9c6b fc4f04e287746c48 61926874f4d0d5ed 2fb9ae05f5dbf8f4 -> 63.0, de84da9dfd5a336d 11d5c0cb2d4e65ed cb068253adb98c34 2d0977c7ffe06dd5 -> 296.0, de84da9dfd5a336d dbfead5bea412000 ef8c02936aa620f8 -> 311.0, de84da9dfd5a336d 145e978a3c671628 a8530ac47e72714c dfdd9f5717e60d5b -> 270.0, de84da9dfd5a336d a8530ac47e72714c 87b2b4d801a113cb -> 314.0, aef4ee042bea9c6b f0263c72700f1fb2 fc4f04e287746c48 324ac734097de5e4 -> 101.0, aef4ee042bea9c6b fc4f04e287746c48 30886045ac687868 d6fe1528dbb6ba78 759c2c3c56dd474f -> 235.0, de84da9dfd5a336d 850c323a8f0a8a37 1c74b46de6941e5c b37978c3ebac74c3 -> 334.0, aef4ee042bea9c6b 7afadb899415c2d8 fc4f04e287746c48 30886045ac687868 -> 104.0, de84da9dfd5a336d dbeabaf7b12face3 23cd1c1881eeae43 cb068253adb98c34 -> 376.0, de84da9dfd5a336d 2c154d6f92573c8b f584ef3cb4e7f531 -> 317.0, 16673ba6fe359d72 de84da9dfd5a336d -> 275.0, de84da9dfd5a336d e5f34f20e1a99321 -> 274.0, aef4ee042bea9c6b fc4f04e287746c48 a61e620f45aa714e 2fb9ae05f5dbf8f4 -> 168.0, aef4ee042bea9c6b fc4f04e287746c48 2fb9ae05f5dbf8f4 -> 42.0, aef4ee042bea9c6b fc4f04e287746c48 8125143ae85d120b 2fb9ae05f5dbf8f4 -> 225.0, aef4ee042bea9c6b fc4f04e287746c48 fbf4fc40a933bc81 2fb9ae05f5dbf8f4 -> 229.0, 5af2d8f8da344fe9 de84da9dfd5a336d 145e978a3c671628 e6248bd0dfd2d79b -> 381.0, aef4ee042bea9c6b fc4f04e287746c48 2d0977c7ffe06dd5 30886045ac687868 -> 57.0, aef4ee042bea9c6b fc4f04e287746c48 ad0422c8d620caf8 2fb9ae05f5dbf8f4 -> 246.0, 6f859ec9f9dfdbec de84da9dfd5a336d dbeabaf7b12face3 dfdd9f5717e60d5b de954c8b9ab50bc4 -> 359.0, aef4ee042bea9c6b fc4f04e287746c48 324ac734097de5e4 b9c471bc53981cb9 -> 186.0, aef4ee042bea9c6b fc4f04e287746c48 8125143ae85d120b 324ac734097de5e4 -> 211.0, aef4ee042bea9c6b fc4f04e287746c48 2fb9ae05f5dbf8f4 d118eba1e061c033 -> 220.0, aef4ee042bea9c6b b3aae108e805c841 fc4f04e287746c48 324ac734097de5e4 -> 190.0, de84da9dfd5a336d e6248bd0dfd2d79b 76d8ef2d439038ed cb068253adb98c34 1c74b46de6941e5c -> 271.0, de84da9dfd5a336d dbeabaf7b12face3 ba41755d77115943 e6248bd0dfd2d79b e3e2fa4a1dce5dd4 -> 294.0, aef4ee042bea9c6b e287d2e8b9a000d4 fc4f04e287746c48 30886045ac687868 -> 82.0, aef4ee042bea9c6b fc4f04e287746c48 30886045ac687868 43161cfc140f8e45 -> 64.0, de84da9dfd5a336d cb068253adb98c34 ee54b49146da0d5c -> 328.0, aef4ee042bea9c6b 284ec0a9e71d0e70 fc4f04e287746c48 2f89084003c0688d -> 138.0, aef4ee042bea9c6b fc4f04e287746c48 bca31ffe5d782fdb 6a82ef5b6ade294f 324ac734097de5e4 -> 51.0, aef4ee042bea9c6b fc4f04e287746c48 c66403c4d48619a2 30886045ac687868 -> 92.0, 8eb93a23c1d89116 de84da9dfd5a336d cb068253adb98c34 -> 388.0, aef4ee042bea9c6b 7f356be2dc30c7df fc4f04e287746c48 324ac734097de5e4 -> 120.0, 84a18191b0582f60 aef4ee042bea9c6b fc4f04e287746c48 30886045ac687868 -> 214.0, 95a24f5bf57efe7c 58351f60b4c16b9f 3db691494440189b -> 33.0, 1feb40f97fc5f65a aef4ee042bea9c6b fc4f04e287746c48 324ac734097de5e4 -> 75.0, aef4ee042bea9c6b fc4f04e287746c48 ff60782591147945 2fb9ae05f5dbf8f4 -> 215.0, aef4ee042bea9c6b fc4f04e287746c48 7e9c4eb8561d34b6 30886045ac687868 -> 165.0, aef4ee042bea9c6b 284ec0a9e71d0e70 595abe844d2a4c42 fc4f04e287746c48 d777cfa1462b7c50 -> 204.0, aef4ee042bea9c6b fc4f04e287746c48 324ac734097de5e4 f988595788c8078b -> 87.0, aef4ee042bea9c6b ee2d093788e31d94 fc4f04e287746c48 324ac734097de5e4 -> 107.0, de84da9dfd5a336d cf3902d3967f2979 fb913576b6a6ed02 a8530ac47e72714c dfdd9f5717e60d5b -> 372.0, cd74a8342d25d090 18f90796706ceaf1 dff40de4dd25253a 1b96f206580d3c18 818c76aa1c8fcfcb -> 17.0, de84da9dfd5a336d b37978c3ebac74c3 c91207e3f2759446 -> 289.0, de84da9dfd5a336d 9fc4663601417110 e6248bd0dfd2d79b de954c8b9ab50bc4 -> 302.0, aef4ee042bea9c6b fc4f04e287746c48 762ee94f86754b68 2fb9ae05f5dbf8f4 -> 56.0, de84da9dfd5a336d 5cbb88e0b2b2f425 254e840e46e60820 -> 379.0, cd74a8342d25d090 18f90796706ceaf1 dff40de4dd25253a 1b96f206580d3c18 9e0fb035c6b471be -> 5.0, e59c9e03ecaf3b73 6f859ec9f9dfdbec de84da9dfd5a336d 194c60b6be63558b 1c74b46de6941e5c -> 355.0, bd22973221b45f50 cd74a8342d25d090 1b96f206580d3c18 9e0fb035c6b471be -> 20.0, ec07e779cad191ec de84da9dfd5a336d e6248bd0dfd2d79b 1b3660568d34cf1b dfdd9f5717e60d5b -> 347.0, aef4ee042bea9c6b fc4f04e287746c48 bd54e970066bdeb2 30886045ac687868 -> 129.0, de84da9dfd5a336d 145e978a3c671628 9504aaca0469d8ac -> 396.0, aef4ee042bea9c6b 41d5ba685be3786c fc4f04e287746c48 324ac734097de5e4 -> 84.0, 65c9a4bd72b7bd91 de84da9dfd5a336d e6248bd0dfd2d79b 1c74b46de6941e5c -> 307.0, aef4ee042bea9c6b 595abe844d2a4c42 fc4f04e287746c48 324ac734097de5e4 d777cfa1462b7c50 -> 210.0, aef4ee042bea9c6b fc4f04e287746c48 f5b1ba0e1ba9987c 324ac734097de5e4 -> 153.0, 22c154eec28333fb aef4ee042bea9c6b fc4f04e287746c48 324ac734097de5e4 -> 142.0, aef4ee042bea9c6b 800cb3c1929d3b31 fc4f04e287746c48 324ac734097de5e4 -> 196.0, 8e440375c676a98a aef4ee042bea9c6b fc4f04e287746c48 2fb9ae05f5dbf8f4 -> 74.0, aef4ee042bea9c6b 7f356be2dc30c7df fc4f04e287746c48 2fb9ae05f5dbf8f4 -> 223.0, aef4ee042bea9c6b fc4f04e287746c48 4c39a6f841831f16 2fb9ae05f5dbf8f4 -> 182.0, de84da9dfd5a336d ef8c02936aa620f8 50672b71ad8f5b19 -> 301.0, aef4ee042bea9c6b fc4f04e287746c48 53ab056bd632e680 30886045ac687868 -> 159.0, aef4ee042bea9c6b fc4f04e287746c48 30886045ac687868 8ea1de9be7eaaeb1 -> 200.0, cd74a8342d25d090 1b96f206580d3c18 9e0fb035c6b471be 65ab36aa7324d348 -> 9.0, cd74a8342d25d090 8abdc0cc1035c650 b30bf98a576ec06d -> 28.0, aef4ee042bea9c6b fc4f04e287746c48 5ddcb5855b64fca8 324ac734097de5e4 -> 248.0, aef4ee042bea9c6b 2dec8217aa3fbb01 fc4f04e287746c48 2c9b261646dd1155 324ac734097de5e4 -> 181.0, aef4ee042bea9c6b fc4f04e287746c48 324ac734097de5e4 46ff3f009d45d3ad -> 123.0, a90f79760d29b96b de84da9dfd5a336d cb068253adb98c34 -> 395.0, aef4ee042bea9c6b fc4f04e287746c48 a61e620f45aa714e 324ac734097de5e4 -> 256.0, de84da9dfd5a336d cb068253adb98c34 315b244f6fc36484 -> 345.0, aef4ee042bea9c6b fc4f04e287746c48 30886045ac687868 29cc7b8c30db5589 -> 97.0, de84da9dfd5a336d cb068253adb98c34 dff40de4dd25253a c3b1a0bcf0178bcb a7d9785a500f5894 -> 322.0, aef4ee042bea9c6b fc4f04e287746c48 353ae0f0da2f5be5 2fb9ae05f5dbf8f4 -> 135.0, aef4ee042bea9c6b fc4f04e287746c48 d221fac48ee7e21f 30886045ac687868 -> 128.0, cd74a8342d25d090 9b19ea612a76231a b30bf98a576ec06d -> 27.0, 1feb40f97fc5f65a aef4ee042bea9c6b fc4f04e287746c48 2fb9ae05f5dbf8f4 -> 254.0, aef4ee042bea9c6b e3418f0614e7dce1 fc4f04e287746c48 324ac734097de5e4 -> 221.0, aef4ee042bea9c6b fc4f04e287746c48 2fb9ae05f5dbf8f4 7634c051426a6995 -> 201.0, abe44875baaa8f48 aef4ee042bea9c6b fc4f04e287746c48 -> 32.0, aef4ee042bea9c6b fc4f04e287746c48 592f3bbb9514936f 2fb9ae05f5dbf8f4 4b6926b0754cb602 -> 173.0, 5874bb9bf30ee8f0 aef4ee042bea9c6b fc4f04e287746c48 30886045ac687868 -> 234.0, de84da9dfd5a336d 52ddb39e4ad76f63 ee43cf751cf2df56 -> 279.0, aef4ee042bea9c6b dbeabaf7b12face3 fc4f04e287746c48 -> 31.0, 2affa525151b6c51 79021a2e2c836c1a 327e089362aac70c fca90e7f73f3c8ef af26d27737af376a -> 0.0, aef4ee042bea9c6b 800cb3c1929d3b31 fc4f04e287746c48 30886045ac687868 -> 122.0, aef4ee042bea9c6b fc4f04e287746c48 bca31ffe5d782fdb 6a82ef5b6ade294f 30886045ac687868 -> 191.0, aef4ee042bea9c6b fc4f04e287746c48 a1695a2f261a125d 324ac734097de5e4 -> 213.0, aef4ee042bea9c6b fc4f04e287746c48 d221fac48ee7e21f 324ac734097de5e4 -> 154.0, aef4ee042bea9c6b fc4f04e287746c48 -> 29.0, aef4ee042bea9c6b fc4f04e287746c48 2f89084003c0688d 30886045ac687868 -> 187.0, aef4ee042bea9c6b fc4f04e287746c48 324ac734097de5e4 29cc7b8c30db5589 -> 112.0, aef4ee042bea9c6b fc4f04e287746c48 324ac734097de5e4 7634c051426a6995 -> 55.0, de84da9dfd5a336d e6248bd0dfd2d79b cb068253adb98c34 dd3879c6c77f96d9 -> 304.0, ec07e779cad191ec de84da9dfd5a336d bca31ffe5d782fdb ef8c02936aa620f8 -> 351.0, 25aef2ea5c77dd40 de84da9dfd5a336d b37978c3ebac74c3 -> 315.0, cd74a8342d25d090 f41d1ff8dbb607cd 1b96f206580d3c18 9e0fb035c6b471be -> 14.0, de84da9dfd5a336d 6f4a4738acf270b7 f43586ba2ab373d3 -> 306.0, 7ba02c5315363583 e59c9e03ecaf3b73 de84da9dfd5a336d -> 350.0, aef4ee042bea9c6b fc4f04e287746c48 2d0977c7ffe06dd5 324ac734097de5e4 -> 91.0, aef4ee042bea9c6b 7504ec8e8020038c fc4f04e287746c48 324ac734097de5e4 -> 127.0, aef4ee042bea9c6b fc4f04e287746c48 bca31ffe5d782fdb 6a82ef5b6ade294f 2fb9ae05f5dbf8f4 -> 96.0, de84da9dfd5a336d 260ab222e6f66963 -> 368.0, de84da9dfd5a336d e6248bd0dfd2d79b ef8c02936aa620f8 5a024744fb1284c1 5db993aa918f214c -> 321.0, de84da9dfd5a336d 7e16992a2008b6cc 7e16992a2008b6cc de954c8b9ab50bc4 -> 367.0, aef4ee042bea9c6b fc4f04e287746c48 2fb9ae05f5dbf8f4 b9c471bc53981cb9 -> 180.0, de84da9dfd5a336d 10660a0a6dff8bf2 cb068253adb98c34 -> 344.0, de84da9dfd5a336d ddacd8f7ca3e8cd7 de954c8b9ab50bc4 -> 319.0, 22c154eec28333fb aef4ee042bea9c6b fc4f04e287746c48 2fb9ae05f5dbf8f4 -> 250.0, 4129dc2b307a32fc de84da9dfd5a336d dbeabaf7b12face3 -> 346.0, aef4ee042bea9c6b 4fa18b7dabaa3cd0 fc4f04e287746c48 2fb9ae05f5dbf8f4 d777cfa1462b7c50 -> 166.0, de84da9dfd5a336d 33a04ffd7d32bddb cb068253adb98c34 d1fa3ee4209beea0 -> 280.0, 8f48d0e85028e138 cd74a8342d25d090 1b96f206580d3c18 316bc914dd301f7f -> 13.0, de84da9dfd5a336d f979be68af2ba7f1 -> 312.0, aef4ee042bea9c6b 5b9834ef1db9cdf7 fc4f04e287746c48 324ac734097de5e4 -> 59.0, 15ff929ca404c5df de84da9dfd5a336d c3295ee505dacb9d 40a91ef57b86ba1e d6fe1528dbb6ba78 -> 313.0, aef4ee042bea9c6b fc4f04e287746c48 7d77b1323bd79bf6 324ac734097de5e4 -> 197.0, de84da9dfd5a336d 145e978a3c671628 fc309a052c4ee33f -> 377.0, de84da9dfd5a336d a8530ac47e72714c cb068253adb98c34 d9a60add2c163222 -> 378.0, aef4ee042bea9c6b fc4f04e287746c48 bd54e970066bdeb2 2fb9ae05f5dbf8f4 -> 219.0, aef4ee042bea9c6b fc4f04e287746c48 f5b1ba0e1ba9987c 30886045ac687868 -> 224.0, aef4ee042bea9c6b 26a683a75ad83866 fc4f04e287746c48 2fb9ae05f5dbf8f4 -> 152.0, aef4ee042bea9c6b fc4f04e287746c48 a38cbaa776077b21 324ac734097de5e4 -> 124.0, 84a18191b0582f60 aef4ee042bea9c6b fc4f04e287746c48 2fb9ae05f5dbf8f4 -> 141.0, aef4ee042bea9c6b fc4f04e287746c48 db3fa198383b5801 2fb9ae05f5dbf8f4 -> 155.0, aef4ee042bea9c6b 41d5ba685be3786c fc4f04e287746c48 30886045ac687868 -> 49.0, de84da9dfd5a336d b24f888332f62491 -> 340.0, de84da9dfd5a336d 7e16992a2008b6cc cb068253adb98c34 7200fe62c8699b0b -> 394.0, de84da9dfd5a336d 2dd1b8625c76bd8e 145e978a3c671628 cb068253adb98c34 -> 282.0, df05a021fcdab395 aef4ee042bea9c6b fc4f04e287746c48 2fb9ae05f5dbf8f4 -> 98.0, 950f9f1cb9d94276 de84da9dfd5a336d 1c74b46de6941e5c -> 308.0, cd74a8342d25d090 db79e6dbb9413776 1b96f206580d3c18 316bc914dd301f7f -> 8.0, de84da9dfd5a336d 6cc597c2659dd600 6f4a4738acf270b7 cb068253adb98c34 c3b1a0bcf0178bcb -> 288.0, de84da9dfd5a336d 145e978a3c671628 a9a843bac5d0f359 -> 366.0, cd74a8342d25d090 431d27a79c920488 1b96f206580d3c18 9e0fb035c6b471be -> 10.0, aef4ee042bea9c6b fc4f04e287746c48 324ac734097de5e4 43161cfc140f8e45 -> 94.0, aef4ee042bea9c6b 5b9834ef1db9cdf7 fc4f04e287746c48 2fb9ae05f5dbf8f4 -> 100.0, aef4ee042bea9c6b fc4f04e287746c48 762ee94f86754b68 324ac734097de5e4 -> 46.0, aef4ee042bea9c6b fc4f04e287746c48 a1695a2f261a125d 30886045ac687868 -> 226.0, 1feb40f97fc5f65a aef4ee042bea9c6b fc4f04e287746c48 30886045ac687868 -> 249.0, cd74a8342d25d090 bf1522e7aceea068 b30bf98a576ec06d -> 26.0, aef4ee042bea9c6b fc4f04e287746c48 a38cbaa776077b21 2fb9ae05f5dbf8f4 -> 146.0, aef4ee042bea9c6b fc4f04e287746c48 324ac734097de5e4 d6fe1528dbb6ba78 759c2c3c56dd474f -> 195.0, aef4ee042bea9c6b fc4f04e287746c48 d6a8c55e1715adf0 324ac734097de5e4 -> 262.0, aef4ee042bea9c6b fc4f04e287746c48 61536baccef4497c 30886045ac687868 -> 68.0, aef4ee042bea9c6b fc4f04e287746c48 30886045ac687868 d118eba1e061c033 -> 164.0, aef4ee042bea9c6b fc4f04e287746c48 61926874f4d0d5ed 30886045ac687868 -> 231.0, de84da9dfd5a336d ec7d97c5f425ebc1 e2fd4644a14f41a0 -> 272.0, aef4ee042bea9c6b fc4f04e287746c48 324ac734097de5e4 8ea1de9be7eaaeb1 -> 260.0, 3db691494440189b dff40de4dd25253a 12f7d2408c3dcb88 -> 34.0, aef4ee042bea9c6b fc4f04e287746c48 750dc5d8cba3e6ec 2fb9ae05f5dbf8f4 -> 222.0, de84da9dfd5a336d 145e978a3c671628 dfcc8376b346f11c -> 339.0, 95a24f5bf57efe7c 58351f60b4c16b9f 3db691494440189b 5b9834ef1db9cdf7 -> 38.0, d82cdb9e4e55ada3 de84da9dfd5a336d cb068253adb98c34 1c74b46de6941e5c -> 357.0, aef4ee042bea9c6b fc4f04e287746c48 565ec9822ca30928 324ac734097de5e4 -> 208.0, aef4ee042bea9c6b fc4f04e287746c48 fbf4fc40a933bc81 324ac734097de5e4 -> 132.0, 1c184d98a13b27a1 aef4ee042bea9c6b fc4f04e287746c48 2fb9ae05f5dbf8f4 -> 185.0, de84da9dfd5a336d e2fd4644a14f41a0 fa0b180649301db2 -> 277.0, aef4ee042bea9c6b fc4f04e287746c48 750dc5d8cba3e6ec 324ac734097de5e4 -> 227.0, aef4ee042bea9c6b fc4f04e287746c48 1b3660568d34cf1b 2fb9ae05f5dbf8f4 -> 184.0, aef4ee042bea9c6b fc4f04e287746c48 353ae0f0da2f5be5 324ac734097de5e4 -> 206.0, aef4ee042bea9c6b a995112de04d8333 fc4f04e287746c48 30886045ac687868 -> 115.0, aef4ee042bea9c6b 7f356be2dc30c7df fc4f04e287746c48 30886045ac687868 -> 252.0, aef4ee042bea9c6b fc4f04e287746c48 7e9c4eb8561d34b6 -> 52.0, aef4ee042bea9c6b fc4f04e287746c48 30886045ac687868 e588b802b73e06bb -> 119.0, db75dc91241ac29e de84da9dfd5a336d -> 295.0, aef4ee042bea9c6b ba41755d77115943 fc4f04e287746c48 2fb9ae05f5dbf8f4 e3e2fa4a1dce5dd4 -> 212.0, ba2356f99f38a316 de84da9dfd5a336d 145e978a3c671628 -> 343.0, aef4ee042bea9c6b fc4f04e287746c48 4e2ee827d0451372 30886045ac687868 -> 48.0, de84da9dfd5a336d de84da9dfd5a336d b37978c3ebac74c3 7dfb5832152d0bb1 -> 292.0, efb01217408a8bde de84da9dfd5a336d 8a0e730f72e4009f ef8c02936aa620f8 -> 386.0, aef4ee042bea9c6b 595abe844d2a4c42 fc4f04e287746c48 2fb9ae05f5dbf8f4 d777cfa1462b7c50 -> 145.0, aef4ee042bea9c6b fc4f04e287746c48 30886045ac687868 7634c051426a6995 -> 99.0, aef4ee042bea9c6b f0263c72700f1fb2 fc4f04e287746c48 2fb9ae05f5dbf8f4 -> 88.0, de84da9dfd5a336d 9e11f5d8fe3603db c3afb44fc8b628b6 -> 329.0, 5f7981e9090392df aef4ee042bea9c6b fc4f04e287746c48 2fb9ae05f5dbf8f4 -> 236.0, aef4ee042bea9c6b fc4f04e287746c48 4c39a6f841831f16 324ac734097de5e4 -> 171.0, aef4ee042bea9c6b fc4f04e287746c48 2fb9ae05f5dbf8f4 43161cfc140f8e45 -> 54.0, aef4ee042bea9c6b fc4f04e287746c48 b6c9bd1ea8069058 30886045ac687868 -> 238.0, aef4ee042bea9c6b 7504ec8e8020038c fc4f04e287746c48 2fb9ae05f5dbf8f4 -> 240.0, de84da9dfd5a336d dbeabaf7b12face3 1c74b46de6941e5c 3b3446e7ed618735 -> 352.0, bd22973221b45f50 cd74a8342d25d090 1b96f206580d3c18 818c76aa1c8fcfcb -> 19.0, aef4ee042bea9c6b fc4f04e287746c48 30886045ac687868 29cc7b8c30db5589 92628b55d746da91 -> 161.0, aef4ee042bea9c6b 9b1c1947d34b88ef fc4f04e287746c48 2fb9ae05f5dbf8f4 18d0fde54d625b72 -> 244.0, de84da9dfd5a336d b5e06beafe79fc04 cb068253adb98c34 -> 320.0, aef4ee042bea9c6b fc4f04e287746c48 30886045ac687868 46ff3f009d45d3ad -> 62.0, de84da9dfd5a336d 6dc2c5d90364a92c de954c8b9ab50bc4 -> 327.0, aef4ee042bea9c6b f0263c72700f1fb2 fc4f04e287746c48 30886045ac687868 -> 108.0, aef4ee042bea9c6b 4322d62f1b750f2d fc4f04e287746c48 30886045ac687868 -> 209.0, aef4ee042bea9c6b e3418f0614e7dce1 fc4f04e287746c48 2fb9ae05f5dbf8f4 -> 174.0, de84da9dfd5a336d c3295ee505dacb9d 194c60b6be63558b a714102b36ec5168 -> 326.0, aef4ee042bea9c6b fc4f04e287746c48 cd5a81efac74a52c 324ac734097de5e4 -> 257.0, aef4ee042bea9c6b fc4f04e287746c48 750dc5d8cba3e6ec 30886045ac687868 -> 116.0, aef4ee042bea9c6b fc4f04e287746c48 1b3660568d34cf1b 30886045ac687868 -> 114.0, 206a81dc55cb23ee de84da9dfd5a336d e6248bd0dfd2d79b cb068253adb98c34 66ce0ed296a9e5e1 de954c8b9ab50bc4 5db993aa918f214c -> 323.0, 667a32010feec5c3 aef4ee042bea9c6b fc4f04e287746c48 324ac734097de5e4 -> 144.0, de84da9dfd5a336d 9697654c8d3949ba cb068253adb98c34 88ba9a8c1fcab9e5 -> 358.0, aef4ee042bea9c6b 4d3e9a1981b7004f fc4f04e287746c48 324ac734097de5e4 -> 65.0, aef4ee042bea9c6b fc4f04e287746c48 bca31ffe5d782fdb 6a82ef5b6ade294f -> 45.0, de84da9dfd5a336d 34dd5e2b61b5ef95 -> 370.0, 34b4c739c5af655c aef4ee042bea9c6b fc4f04e287746c48 30886045ac687868 -> 121.0, aef4ee042bea9c6b ba41755d77115943 fc4f04e287746c48 30886045ac687868 e3e2fa4a1dce5dd4 -> 137.0, aef4ee042bea9c6b fc4f04e287746c48 7e9c4eb8561d34b6 324ac734097de5e4 -> 80.0, aef4ee042bea9c6b 6c6d07e5821cd3ea fc4f04e287746c48 30886045ac687868 -> 139.0, f883da636d1a80dc de84da9dfd5a336d ec7d97c5f425ebc1 -> 325.0, de84da9dfd5a336d c59244c44da5279f 1c74b46de6941e5c -> 382.0, 34b4c739c5af655c de84da9dfd5a336d f8be9eec7b4131a6 -> 273.0, de84da9dfd5a336d d6bc5d4fad0d514a cb068253adb98c34 -> 310.0, aef4ee042bea9c6b fc4f04e287746c48 4dde168c9dedad47 30886045ac687868 -> 258.0, 1c184d98a13b27a1 aef4ee042bea9c6b fc4f04e287746c48 30886045ac687868 -> 79.0, 6456336010f1f58f de84da9dfd5a336d bb5444d1d7dc8006 b37978c3ebac74c3 -> 316.0, de84da9dfd5a336d 145e978a3c671628 ecc2728d738dbb58 -> 341.0, aef4ee042bea9c6b fc4f04e287746c48 c66403c4d48619a2 324ac734097de5e4 -> 167.0, aef4ee042bea9c6b fc4f04e287746c48 61536baccef4497c 324ac734097de5e4 -> 140.0, aef4ee042bea9c6b fc4f04e287746c48 d221fac48ee7e21f 2fb9ae05f5dbf8f4 -> 217.0, de84da9dfd5a336d b811edf6f706f8a1 cb068253adb98c34 -> 283.0, 58351f60b4c16b9f 3db691494440189b d6a3f8452508fa0a -> 35.0, aef4ee042bea9c6b 284ec0a9e71d0e70 800cb3c1929d3b31 fc4f04e287746c48 -> 207.0, aef4ee042bea9c6b 284ec0a9e71d0e70 7f356be2dc30c7df fc4f04e287746c48 -> 216.0, aa003c7b5ba6f948 de84da9dfd5a336d 1c74b46de6941e5c -> 387.0, de84da9dfd5a336d 9586dc36aee88f72 -> 267.0, 58351f60b4c16b9f 3db691494440189b -> 36.0)"
       ]
      }
     ],
     "prompt_number": 92
    },
    {
     "cell_type": "code",
     "collapsed": false,
     "input": [
      "val totalProfits = sim.simulate(keyphrases, bids)"
     ],
     "language": "python",
     "metadata": {},
     "outputs": [
      {
       "output_type": "stream",
       "stream": "stdout",
       "text": [
        "-1,0\n"
       ]
      },
      {
       "output_type": "stream",
       "stream": "stdout",
       "text": []
      },
      {
       "ename": "java.lang.IndexOutOfBoundsException",
       "evalue": "(0,-1) vs (1,399)",
       "output_type": "pyerr",
       "traceback": [
        "java.lang.IndexOutOfBoundsException: (0,-1) vs (1,399)",
        "    BIDMat.SparseMat$mcF$sp.apply$mcF$sp(SparseMat.scala:17)"
       ]
      }
     ],
     "prompt_number": 93
    }
   ],
   "metadata": {}
  }
 ]
}