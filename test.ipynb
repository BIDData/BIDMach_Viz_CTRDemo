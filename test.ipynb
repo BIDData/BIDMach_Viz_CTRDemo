{
 "metadata": {
  "name": "",
  "signature": "sha256:9216d3ffba0c7c79fa101c5e7742f20c58e12a2bd9799aad49af69f2cc50be5c"
 },
 "nbformat": 3,
 "nbformat_minor": 0,
 "worksheets": [
  {
   "cells": [
    {
     "cell_type": "code",
     "collapsed": false,
     "input": [
      "import BIDMat.{CMat,CSMat,DMat,Dict,IDict,FMat,GMat,GIMat,GSMat,HMat,IMat,Mat,SMat,SBMat,SDMat}\n",
      "import BIDMat.MatFunctions._\n",
      "import BIDMat.SciFunctions._\n",
      "import BIDMat.Solvers._\n",
      "Mat.checkMKL\n",
      "Mat.checkCUDA\n",
      "if (Mat.hasCUDA > 0) GPUmem"
     ],
     "language": "python",
     "metadata": {},
     "outputs": [
      {
       "output_type": "stream",
       "stream": "stdout",
       "text": [
        "1 CUDA device found, CUDA version 7.0\n"
       ]
      },
      {
       "output_type": "stream",
       "stream": "stdout",
       "text": []
      },
      {
       "metadata": {},
       "output_type": "pyout",
       "prompt_number": 1,
       "text": [
        "(0.98721826,4239876096,4294770688)"
       ]
      }
     ],
     "prompt_number": 1
    },
    {
     "cell_type": "code",
     "collapsed": false,
     "input": [
      "kws.ncols"
     ],
     "language": "python",
     "metadata": {},
     "outputs": [
      {
       "output_type": "stream",
       "stream": "stdout",
       "text": []
      },
      {
       "output_type": "stream",
       "stream": "stdout",
       "text": []
      },
      {
       "metadata": {},
       "output_type": "pyout",
       "prompt_number": 24,
       "text": [
        "397"
       ]
      }
     ],
     "prompt_number": 24
    },
    {
     "cell_type": "code",
     "collapsed": false,
     "input": [
      "/*\n",
      "val ad_id = loadSBMat(\"fake_CTR/ad_id.sbmat\")\n",
      "val ad_kw_comp = loadSMat(\"fake_CTR/ad_kw_comp.smat\").t\n",
      "val ad_kw_map = loadIMat(\"fake_CTR/ad_kw_map.imat\")\n",
      "val kws = loadSBMat(\"fake_CTR/keyphrase.sbmat\")\n",
      "val pos_comp = loadSMat(\"fake_CTR/pos_comp.smat\").t\n",
      "*/\n",
      "\n",
      "val ad_id_cs = CSMat(10, 1)\n",
      "(0 until 10).foreach((i: Int) => {ad_id_cs(i, 0) = s\"advertiser_$i\"})\n",
      "val ad_id = SBMat(ad_id_cs)\n",
      "\n",
      "val kws_cs = CSMat(10, 1)\n",
      "(0 until 10).foreach((i: Int) => {kws_cs(i, 0) = s\"keyPhrase_$i\"})\n",
      "val kws = SBMat(kws_cs)\n",
      "\n"
     ],
     "language": "python",
     "metadata": {},
     "outputs": [
      {
       "output_type": "stream",
       "stream": "stdout",
       "text": []
      },
      {
       "output_type": "stream",
       "stream": "stdout",
       "text": []
      },
      {
       "metadata": {},
       "output_type": "pyout",
       "prompt_number": 103,
       "text": [
        "keyPhrase_0 keyPhrase_1 keyPhrase_2 keyPhrase_3 keyPhrase_4 keyPhrase_5 \n",
        "keyPhrase_6 keyPhrase_7 keyPhrase_8 keyPhrase_9 ..."
       ]
      }
     ],
     "prompt_number": 103
    },
    {
     "cell_type": "code",
     "collapsed": false,
     "input": [
      "val ad_kw_map = IMat(100, 2)\n",
      "for (i <- 1 to 10) {\n",
      "  for (j <- 1 to 10) {\n",
      "    ad_kw_map((i-1)*10+(j-1), 0) = i\n",
      "    ad_kw_map((i-1)*10+(j-1), 1) = j\n",
      "}\n",
      "}\n",
      "ad_kw_map.nrows"
     ],
     "language": "python",
     "metadata": {},
     "outputs": [
      {
       "output_type": "stream",
       "stream": "stdout",
       "text": []
      },
      {
       "output_type": "stream",
       "stream": "stdout",
       "text": []
      },
      {
       "metadata": {},
       "output_type": "pyout",
       "prompt_number": 104,
       "text": [
        "100"
       ]
      }
     ],
     "prompt_number": 104
    },
    {
     "cell_type": "code",
     "collapsed": false,
     "input": [
      "/**\n",
      "  * A class containing the CTR model computed offline. By matrix factorization,\n",
      "  * CTR_matrix = posComponent * adKwComponent.\n",
      "  *\n",
      "  * @param adMap a BIDMat SBMat, each column is an ad ID.\n",
      "  * @param kwMap a BIDMat SBMat, each column is a keyphrase.\n",
      "  * @param posComponent a len(rank) * 1 matrix.\n",
      "  * @param adKwComponent a 1 * (number of ad-keyphrase pair) matrix.\n",
      "  */\n",
      "\n",
      "class CTRModel(adMap: SBMat, kwMap: SBMat, adKwMap: IMat, posComponent: SMat, adKwComponent: SMat) {\n",
      "\n",
      "  /** Convert the mapping matrix into BIDMat Dict so that we can use ad/keyphrase to get their index.*/\n",
      "  val adDict = new Dict(adMap.toCSMat)\n",
      "  val kwDict = new Dict(kwMap.toCSMat)\n",
      "  var adKwCSMat = CSMat(adKwMap.nrows, 1)\n",
      "  var i = 0\n",
      "  while (i < adKwMap.nrows) {\n",
      "      adKwCSMat(i, 0) = adKwMap(i, ?).toString\n",
      "      i += 1\n",
      "  }\n",
      "  val adKwDict = new Dict(adKwCSMat)\n",
      "  \n",
      "\n",
      "  def getCTR(rank: Int, ad: String, kw: String): Float = {\n",
      "    val ad_kw = row(adDict(ad)+1, kwDict(kw)+1)\n",
      "    posComponent(rank-1, 0) * adKwComponent(0, adKwDict(ad_kw.toString))\n",
      "  }\n",
      "}"
     ],
     "language": "python",
     "metadata": {},
     "outputs": [
      {
       "output_type": "stream",
       "stream": "stdout",
       "text": []
      },
      {
       "output_type": "stream",
       "stream": "stdout",
       "text": []
      }
     ],
     "prompt_number": 105
    },
    {
     "cell_type": "code",
     "collapsed": false,
     "input": [
      "val model = new CTRModel(ad_id, kws, ad_kw_map, pos_comp, ad_kw_comp(?, 0 until 100))"
     ],
     "language": "python",
     "metadata": {},
     "outputs": [
      {
       "output_type": "stream",
       "stream": "stdout",
       "text": []
      },
      {
       "output_type": "stream",
       "stream": "stdout",
       "text": []
      },
      {
       "metadata": {},
       "output_type": "pyout",
       "prompt_number": 106,
       "text": [
        "CTRModel@68ee88cf"
       ]
      }
     ],
     "prompt_number": 106
    },
    {
     "cell_type": "code",
     "collapsed": false,
     "input": [
      "val ad_id_csmat = ad_id.toCSMat\n",
      "val kws_csmat = kws.toCSMat\n",
      "var i = 0\n",
      "while (i < ad_kw_map.nrows){\n",
      "  val ad = ad_kw_map(i, 0) - 1\n",
      "  val kw = ad_kw_map(i, 1) - 1\n",
      "  val ad_str = ad_id_csmat(ad, 0)\n",
      "  val kw_str = kws_csmat(kw, 0)\n",
      "  println(s\"$ad_str, $kw_str\")\n",
      "  println(model.getCTR(1, ad_str, kw_str))\n",
      "  println()\n",
      "  i += 1\n",
      "}"
     ],
     "language": "python",
     "metadata": {},
     "outputs": [
      {
       "output_type": "stream",
       "stream": "stdout",
       "text": [
        "advertiser_0, keyPhrase_0\n",
        "0.079920545\n",
        "\n",
        "advertiser_0, keyPhrase_1\n",
        "0.14556073\n",
        "\n",
        "advertiser_0, keyPhrase_2\n",
        "0.1653996\n",
        "\n",
        "advertiser_0, keyPhrase_3\n",
        "0.072019756\n",
        "\n",
        "advertiser_0, keyPhrase_4\n",
        "0.12705925\n",
        "\n",
        "advertiser_0, keyPhrase_5\n",
        "0.15488288\n",
        "\n",
        "advertiser_0, keyPhrase_6\n",
        "0.015919039\n",
        "\n",
        "advertiser_0, keyPhrase_7\n",
        "0.14504147\n",
        "\n",
        "advertiser_0, keyPhrase_8\n",
        "0.102127284\n",
        "\n",
        "advertiser_0, keyPhrase_9\n",
        "0.07469881\n",
        "\n",
        "advertiser_1, keyPhrase_0\n",
        "0.0010279024\n",
        "\n",
        "advertiser_1, keyPhrase_1\n",
        "0.17444928\n",
        "\n",
        "advertiser_1, keyPhrase_2\n",
        "0.17510785\n",
        "\n",
        "advertiser_1, keyPhrase_3\n",
        "0.1260494\n",
        "\n",
        "advertiser_1, keyPhrase_4\n",
        "0.11541126\n",
        "\n",
        "advertiser_1, keyPhrase_5\n",
        "0.08290323\n",
        "\n",
        "advertiser_1, keyPhrase_6\n",
        "0.11321768\n",
        "\n",
        "advertiser_1, keyPhrase_7\n",
        "0.003837072\n",
        "\n",
        "advertiser_1, keyPhrase_8\n",
        "0.09173672\n",
        "\n",
        "advertiser_1, keyPhrase_9\n",
        "4.4727506E-4\n",
        "\n",
        "advertiser_2, keyPhrase_0\n",
        "0.11400931\n",
        "\n",
        "advertiser_2, keyPhrase_1\n",
        "0.10097741\n",
        "\n",
        "advertiser_2, keyPhrase_2\n",
        "0.18544938\n",
        "\n",
        "advertiser_2, keyPhrase_3\n",
        "0.10401537\n",
        "\n",
        "advertiser_2, keyPhrase_4\n",
        "0.13672851\n",
        "\n",
        "advertiser_2, keyPhrase_5\n",
        "0.17378731\n",
        "\n",
        "advertiser_2, keyPhrase_6\n",
        "0.040782418\n",
        "\n",
        "advertiser_2, keyPhrase_7\n",
        "0.030191937\n",
        "\n",
        "advertiser_2, keyPhrase_8\n",
        "0.16736226\n",
        "\n",
        "advertiser_2, keyPhrase_9\n",
        "0.12030164\n",
        "\n",
        "advertiser_3, keyPhrase_0\n",
        "0.10893167\n",
        "\n",
        "advertiser_3, keyPhrase_1\n",
        "0.1191171\n",
        "\n",
        "advertiser_3, keyPhrase_2\n",
        "0.17940325\n",
        "\n",
        "advertiser_3, keyPhrase_3\n",
        "0.0518803\n",
        "\n",
        "advertiser_3, keyPhrase_4\n",
        "0.17168994\n",
        "\n",
        "advertiser_3, keyPhrase_5\n",
        "0.028895987\n",
        "\n",
        "advertiser_3, keyPhrase_6\n",
        "0.0837597\n",
        "\n",
        "advertiser_3, keyPhrase_7\n",
        "0.039728183\n",
        "\n",
        "advertiser_3, keyPhrase_8\n",
        "0.14499632\n",
        "\n",
        "advertiser_3, keyPhrase_9\n",
        "0.15371989\n",
        "\n",
        "advertiser_4, keyPhrase_0\n",
        "0.119827926\n",
        "\n",
        "advertiser_4, keyPhrase_1\n",
        "0.15556426\n",
        "\n",
        "advertiser_4, keyPhrase_2\n",
        "0.009155551\n",
        "\n",
        "advertiser_4, keyPhrase_3\n",
        "0.12485093\n",
        "\n",
        "advertiser_4, keyPhrase_4\n",
        "0.11162501\n",
        "\n",
        "advertiser_4, keyPhrase_5\n",
        "0.049846414\n",
        "\n",
        "advertiser_4, keyPhrase_6\n",
        "0.06899111\n",
        "\n",
        "advertiser_4, keyPhrase_7\n",
        "0.1522699\n",
        "\n",
        "advertiser_4, keyPhrase_8\n",
        "0.18864606\n",
        "\n",
        "advertiser_4, keyPhrase_9\n",
        "0.059720267\n",
        "\n",
        "advertiser_5, keyPhrase_0\n",
        "1.915996E-4\n",
        "\n",
        "advertiser_5, keyPhrase_1\n",
        "0.18308066\n",
        "\n",
        "advertiser_5, keyPhrase_2\n",
        "0.1380279\n",
        "\n",
        "advertiser_5, keyPhrase_3\n",
        "0.012249847\n",
        "\n",
        "advertiser_5, keyPhrase_4\n",
        "0.16949941\n",
        "\n",
        "advertiser_5, keyPhrase_5\n",
        "0.11418258\n",
        "\n",
        "advertiser_5, keyPhrase_6\n",
        "0.060771614\n",
        "\n",
        "advertiser_5, keyPhrase_7\n",
        "0.0077310926\n",
        "\n",
        "advertiser_5, keyPhrase_8\n",
        "0.10278174\n",
        "\n",
        "advertiser_5, keyPhrase_9\n",
        "0.18888333\n",
        "\n",
        "advertiser_6, keyPhrase_0\n",
        "0.09801314\n",
        "\n",
        "advertiser_6, keyPhrase_1\n",
        "0.04190462\n",
        "\n",
        "advertiser_6, keyPhrase_2\n",
        "0.013536135\n",
        "\n",
        "advertiser_6, keyPhrase_3\n",
        "0.096096426\n",
        "\n",
        "advertiser_6, keyPhrase_4\n",
        "0.16891576\n",
        "\n",
        "advertiser_6, keyPhrase_5\n",
        "0.061078075\n",
        "\n",
        "advertiser_6, keyPhrase_6\n",
        "0.018752197\n",
        "\n",
        "advertiser_6, keyPhrase_7\n",
        "0.17771916\n",
        "\n",
        "advertiser_6, keyPhrase_8\n",
        "0.10681836\n",
        "\n",
        "advertiser_6, keyPhrase_9\n",
        "0.016407976\n",
        "\n",
        "advertiser_7, keyPhrase_0\n",
        "0.11652832\n",
        "\n",
        "advertiser_7, keyPhrase_1\n",
        "0.046307452\n",
        "\n",
        "advertiser_7, keyPhrase_2\n",
        "0.06094201\n",
        "\n",
        "advertiser_7, keyPhrase_3\n",
        "0.15700817\n",
        "\n",
        "advertiser_7, keyPhrase_4\n",
        "0.11057105\n",
        "\n",
        "advertiser_7, keyPhrase_5\n",
        "0.18645114\n",
        "\n",
        "advertiser_7, keyPhrase_6\n",
        "0.14209576\n",
        "\n",
        "advertiser_7, keyPhrase_7\n",
        "0.036011413\n",
        "\n",
        "advertiser_7, keyPhrase_8\n",
        "0.15559429\n",
        "\n",
        "advertiser_7, keyPhrase_9\n",
        "0.05117567\n",
        "\n",
        "advertiser_8, keyPhrase_0\n",
        "0.1123387\n",
        "\n",
        "advertiser_8, keyPhrase_1\n",
        "9.062341E-4\n",
        "\n",
        "advertiser_8, keyPhrase_2\n",
        "0.06476508\n",
        "\n",
        "advertiser_8, keyPhrase_3\n",
        "0.14034878\n",
        "\n",
        "advertiser_8, keyPhrase_4\n",
        "0.13164745\n",
        "\n",
        "advertiser_8, keyPhrase_5\n",
        "0.09734605\n",
        "\n",
        "advertiser_8, keyPhrase_6\n",
        "0.10316226\n",
        "\n",
        "advertiser_8, keyPhrase_7\n",
        "0.16875717\n",
        "\n",
        "advertiser_8, keyPhrase_8\n",
        "0.10515228\n",
        "\n",
        "advertiser_8, keyPhrase_9\n",
        "0.11210159\n",
        "\n",
        "advertiser_9, keyPhrase_0\n",
        "0.16831632\n",
        "\n",
        "advertiser_9, keyPhrase_1\n",
        "0.18520418\n",
        "\n",
        "advertiser_9, keyPhrase_2\n",
        "0.16107555\n",
        "\n",
        "advertiser_9, keyPhrase_3\n",
        "0.11995803\n",
        "\n",
        "advertiser_9, keyPhrase_4\n",
        "0.18087025\n",
        "\n",
        "advertiser_9, keyPhrase_5\n",
        "0.121533014\n",
        "\n",
        "advertiser_9, keyPhrase_6\n",
        "0.0686711\n",
        "\n",
        "advertiser_9, keyPhrase_7\n",
        "0.124441996\n",
        "\n",
        "advertiser_9, keyPhrase_8\n",
        "0.19080427\n",
        "\n",
        "advertiser_9, keyPhrase_9\n",
        "0.15013\n",
        "\n"
       ]
      },
      {
       "output_type": "stream",
       "stream": "stdout",
       "text": []
      }
     ],
     "prompt_number": 107
    },
    {
     "cell_type": "code",
     "collapsed": false,
     "input": [
      "import scala.collection.immutable.Map\n",
      "import scala.collection.immutable.ListMap\n",
      "\n",
      "\n",
      "class AdBiddingSimulation(adModel: CTRModel, userModel: CTRModel, alpha: Float, beta: Float) {\n",
      "\n",
      "  def qualityFunc(CTR: Float, bid: Float) = {(math.pow(CTR, alpha) * math.pow(bid, beta)).toFloat}\n",
      "\n",
      "  def invQualityFunc(quality: Float, CTR: Float) = {math.pow(quality / math.pow(CTR, alpha), 1 / beta).toFloat}\n",
      "\n",
      "  //TODO: since not all advertiser bid for all key phrases, bids should be keyPhrases specific\n",
      "  def simulate(key_bid: Map[String, Map[String, Float]]) : Map[String, Float] = {\n",
      "    val totalProfits = key_bid map {\n",
      "      case (keyPhrase: String, bids: Map[String, Float]) => {\n",
      "        val qualityScores = bids map {\n",
      "          case (advertiser: String, bid: Float) => {\n",
      "            (advertiser, getQualityScore(advertiser, keyPhrase, bid))\n",
      "          }\n",
      "        }\n",
      "        val ranks = getRanking(qualityScores)\n",
      "        val finalQuality = getFinalQualityScores(keyPhrase, ranks, bids)\n",
      "        val profits = ranks map {\n",
      "          case (advertiser: String, rank: Int) => {\n",
      "            (advertiser, calculateProfit(finalQuality, keyPhrase, advertiser, rank))\n",
      "          }\n",
      "        }\n",
      "        \n",
      "        //TODO: what to do after getting profits for each key phrase?\n",
      "        (keyPhrase, aggregateProfits(profits))\n",
      "      }\n",
      "    }\n",
      "    totalProfits.toMap\n",
      "  }\n",
      "\n",
      "  def getQualityScore(advertiser: String, keyPhrase: String, bid: Float): Float = {\n",
      "    val myCTR:Float = adModel.getCTR(1, advertiser, keyPhrase)\n",
      "    qualityFunc(myCTR, bid)\n",
      "\n",
      "  }\n",
      "\n",
      "  def getRanking(qualityScores: Map[String, Float]): Map[String, Int] = {\n",
      "    val sorted_scores = ListMap(qualityScores.toSeq.sortWith(_._2 > _._2):_*)\n",
      "    val sorted_map = collection.mutable.Map[String, Int]()\n",
      "    var i = 1\n",
      "    for ((advertiser, quality) <- sorted_scores) {\n",
      "      sorted_map += advertiser -> i\n",
      "      i = i + 1\n",
      "    }\n",
      "    sorted_map.toMap\n",
      "  }\n",
      "\n",
      "  def getFinalQualityScores(keyPhrase: String, ranks: Map[String, Int],\n",
      "                            bids: Map[String, Float]): Map[Int, Float] = {\n",
      "    ranks map {\n",
      "      case (advertiser: String, rank: Int) => {\n",
      "        val finalCTR = userModel.getCTR(rank, advertiser, keyPhrase)\n",
      "        (rank, qualityFunc(finalCTR, bids(advertiser)))\n",
      "      }\n",
      "    }\n",
      "  }\n",
      "\n",
      "  def calculateProfit(finalScores: Map[Int, Float], keyPhrase: String, advertiser: String, rank: Int) : Float = {\n",
      "    //TODO: adding reserve price\n",
      "    if (rank >= finalScores.keys.max) {\n",
      "        return 1\n",
      "    }\n",
      "\n",
      "    // Grab the final score of the next ranking\n",
      "    val nextScore = finalScores(rank + 1)\n",
      "\n",
      "    // Now, calculate what we would have had to bid to maintain this position\n",
      "    val finalCTR = userModel.getCTR(rank, advertiser, keyPhrase)\n",
      "    invQualityFunc(nextScore, finalCTR)\n",
      "\n",
      "  }\n",
      "\n",
      "  def aggregateProfits(profits: Map[String, Float]): Float = {\n",
      "    profits.values.sum\n",
      "  }\n",
      "}\n"
     ],
     "language": "python",
     "metadata": {},
     "outputs": [
      {
       "output_type": "stream",
       "stream": "stdout",
       "text": []
      },
      {
       "output_type": "stream",
       "stream": "stdout",
       "text": []
      }
     ],
     "prompt_number": 112
    },
    {
     "cell_type": "code",
     "collapsed": false,
     "input": [
      "val sim = new AdBiddingSimulation(model, model, 0.5f, 0.5f)"
     ],
     "language": "python",
     "metadata": {},
     "outputs": [
      {
       "output_type": "stream",
       "stream": "stdout",
       "text": []
      },
      {
       "output_type": "stream",
       "stream": "stdout",
       "text": []
      },
      {
       "metadata": {},
       "output_type": "pyout",
       "prompt_number": 116,
       "text": [
        "AdBiddingSimulation@13727b73"
       ]
      }
     ],
     "prompt_number": 116
    },
    {
     "cell_type": "code",
     "collapsed": false,
     "input": [
      "val keyphrases = (0 until kws.ncols).map((i: Int) => kws.toCSMat(i, ?).toString).toArray\n",
      "val ad_id_str = ad_id.toCSMat\n",
      "val key_bids = (0 until 3).map((index: Int) => {\n",
      "  val keyphrase = keyphrases(index)\n",
      "  val ads_appeared = ad_kw_map(find(ad_kw_map(?, 1) == index+1), 0)\n",
      "  val bids = (0 until ads_appeared.nrows).map((i: Int) => {\n",
      "    (ad_id_str(ads_appeared(i)-1, 0), (i+1).toFloat) //for each advertiser, generate bid = 10\n",
      "  }).toMap\n",
      "  (keyphrase, bids)  \n",
      "}).toMap"
     ],
     "language": "python",
     "metadata": {},
     "outputs": [
      {
       "output_type": "stream",
       "stream": "stdout",
       "text": []
      },
      {
       "output_type": "stream",
       "stream": "stdout",
       "text": []
      },
      {
       "metadata": {},
       "output_type": "pyout",
       "prompt_number": 117,
       "text": [
        "Map(keyPhrase_0 -> Map(advertiser_9 -> 10.0, advertiser_5 -> 6.0, advertiser_1 -> 2.0, advertiser_0 -> 1.0, advertiser_3 -> 4.0, advertiser_4 -> 5.0, advertiser_6 -> 7.0, advertiser_2 -> 3.0, advertiser_7 -> 8.0, advertiser_8 -> 9.0), keyPhrase_1 -> Map(advertiser_9 -> 10.0, advertiser_5 -> 6.0, advertiser_1 -> 2.0, advertiser_0 -> 1.0, advertiser_3 -> 4.0, advertiser_4 -> 5.0, advertiser_6 -> 7.0, advertiser_2 -> 3.0, advertiser_7 -> 8.0, advertiser_8 -> 9.0), keyPhrase_2 -> Map(advertiser_9 -> 10.0, advertiser_5 -> 6.0, advertiser_1 -> 2.0, advertiser_0 -> 1.0, advertiser_3 -> 4.0, advertiser_4 -> 5.0, advertiser_6 -> 7.0, advertiser_2 -> 3.0, advertiser_7 -> 8.0, advertiser_8 -> 9.0))"
       ]
      }
     ],
     "prompt_number": 117
    },
    {
     "cell_type": "code",
     "collapsed": false,
     "input": [
      "val totalProfits = sim.simulate(key_bids)"
     ],
     "language": "python",
     "metadata": {},
     "outputs": [
      {
       "output_type": "stream",
       "stream": "stdout",
       "text": []
      },
      {
       "output_type": "stream",
       "stream": "stdout",
       "text": []
      },
      {
       "metadata": {},
       "output_type": "pyout",
       "prompt_number": 118,
       "text": [
        "Map(keyPhrase_0 -> 82.75781, keyPhrase_1 -> 70.64637, keyPhrase_2 -> 79.62439)"
       ]
      }
     ],
     "prompt_number": 118
    }
   ],
   "metadata": {}
  }
 ]
}